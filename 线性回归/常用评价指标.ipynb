{
 "cells": [
  {
   "cell_type": "code",
   "execution_count": 9,
   "metadata": {},
   "outputs": [
    {
     "name": "stdout",
     "output_type": "stream",
     "text": [
      "ACC: 0.75\n"
     ]
    },
    {
     "data": {
      "text/plain": [
       "array([[2, 1],\n",
       "       [0, 1]], dtype=int64)"
      ]
     },
     "execution_count": 9,
     "metadata": {},
     "output_type": "execute_result"
    }
   ],
   "source": [
    "## accuracy\n",
    "import numpy as np\n",
    "from sklearn.metrics import accuracy_score\n",
    "from sklearn.metrics import confusion_matrix\n",
    "y_pred = [0,1,0,1]\n",
    "y_true = [0,1,1,1]\n",
    "print('ACC:',accuracy_score(y_true,y_pred))\n",
    "\n",
    "confusion_matrix(y_true, y_pred, labels=[1, 0])"
   ]
  },
  {
   "cell_type": "code",
   "execution_count": 4,
   "metadata": {},
   "outputs": [
    {
     "name": "stdout",
     "output_type": "stream",
     "text": [
      "Precision 1.0\n",
      "Recall 0.6666666666666666\n",
      "F1-score: 0.8\n"
     ]
    }
   ],
   "source": [
    "from sklearn import metrics\n",
    "print('Precision',metrics.precision_score(y_true,y_pred))\n",
    "print('Recall',metrics.recall_score(y_true,y_pred))\n",
    "print('F1-score:',metrics.f1_score(y_true, y_pred))"
   ]
  },
  {
   "cell_type": "code",
   "execution_count": 10,
   "metadata": {},
   "outputs": [
    {
     "name": "stdout",
     "output_type": "stream",
     "text": [
      "AUC socre: 0.75\n"
     ]
    }
   ],
   "source": [
    "## AUC\n",
    "import numpy as np\n",
    "from sklearn.metrics import roc_auc_score\n",
    "y_true = np.array([0, 0, 1, 1])\n",
    "y_scores = np.array([0.1, 0.4, 0.35, 0.8])\n",
    "print('AUC socre:',roc_auc_score(y_true, y_scores))"
   ]
  },
  {
   "cell_type": "code",
   "execution_count": 14,
   "metadata": {},
   "outputs": [
    {
     "name": "stdout",
     "output_type": "stream",
     "text": [
      "MSE: 0.2871428571428571\n",
      "RMSE: 0.5358571238146014\n",
      "MAE: 0.4142857142857143\n",
      "MAPE: 0.1461904761904762\n"
     ]
    }
   ],
   "source": [
    "# coding=utf-8\n",
    "import numpy as np\n",
    "from sklearn import metrics\n",
    "# MAPE需要自己实现\n",
    "def mape(y_true, y_pred):\n",
    " return np.mean(np.abs((y_pred - y_true) / y_true))\n",
    "\n",
    "y_true = np.array([1.0, 5.0, 4.0, 3.0, 2.0, 5.0, -3.0])\n",
    "y_pred = np.array([1.0, 4.5, 3.8, 3.2, 3.0, 4.8, -2.2])\n",
    "# MSE\n",
    "print('MSE:',metrics.mean_squared_error(y_true, y_pred))\n",
    "# RMSE\n",
    "print('RMSE:',np.sqrt(metrics.mean_squared_error(y_true, y_pred)))\n",
    "# MAE\n",
    "print('MAE:',metrics.mean_absolute_error(y_true, y_pred))\n",
    "# MAPE\n",
    "print('MAPE:',mape(y_true, y_pred))"
   ]
  },
  {
   "cell_type": "code",
   "execution_count": 15,
   "metadata": {},
   "outputs": [
    {
     "name": "stdout",
     "output_type": "stream",
     "text": [
      "R2-score: 0.9486081370449679\n"
     ]
    }
   ],
   "source": [
    "## R2-score\n",
    "from sklearn.metrics import r2_score\n",
    "y_true = [3, -0.5, 2, 7]\n",
    "y_pred = [2.5, 0.0, 2, 8]\n",
    "print('R2-score:',r2_score(y_true, y_pred))"
   ]
  }
 ],
 "metadata": {
  "kernelspec": {
   "display_name": "Python 3",
   "language": "python",
   "name": "python3"
  },
  "language_info": {
   "codemirror_mode": {
    "name": "ipython",
    "version": 3
   },
   "file_extension": ".py",
   "mimetype": "text/x-python",
   "name": "python",
   "nbconvert_exporter": "python",
   "pygments_lexer": "ipython3",
   "version": "3.6.8"
  }
 },
 "nbformat": 4,
 "nbformat_minor": 2
}
